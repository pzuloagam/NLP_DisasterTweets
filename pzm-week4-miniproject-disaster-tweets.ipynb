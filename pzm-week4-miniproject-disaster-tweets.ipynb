{
 "cells": [
  {
   "cell_type": "markdown",
   "id": "0936e7b8",
   "metadata": {
    "papermill": {
     "duration": 0.007988,
     "end_time": "2024-06-23T22:38:01.291775",
     "exception": false,
     "start_time": "2024-06-23T22:38:01.283787",
     "status": "completed"
    },
    "tags": []
   },
   "source": [
    "***Week 4 Miniproject - Disaster Tweets***\n",
    "\n",
    "**Step1: Brief description of problem and data**\n",
    "\n",
    "The objective of this problem is to create a RNN that is able to reconize twitter entries reporting on emergencies. Twitter is a vital platform for real-time communication during disasters. With widespread smartphone use, people can instantly report observed emergencies. Organizations like disaster relief agencies and news outlets seek to monitor Twitter for such announcements. However, distinguishing whether a tweet is genuinely about a disaster can be challenging.\n",
    "\n",
    "**Data**\n",
    "The dataset includes tweets labeled as either related to a disaster or not. The objective is to develop a model that can accurately classify tweets based on this criteria, aiding in the timely identification of disaster-related information. The dataset has 10,000 tweets that where classified by hand.\n",
    "\n",
    "To address this problem, we will use the NLP starter guide provided by Keras as our base example. The Keras starter guide utilizes DistilBERT as the pre-trained model. We will fine-tune this model to create an original submission. Additionally, we will train other architectures to compare the results. Starter notebook from the Keras team: https://www.kaggle.com/code/alexia/kerasnlp-starter-notebook-disaster-tweets\n",
    "\n"
   ]
  },
  {
   "cell_type": "code",
   "execution_count": 1,
   "id": "ad8e7369",
   "metadata": {
    "_cell_guid": "b1076dfc-b9ad-4769-8c92-a6c4dae69d19",
    "_uuid": "8f2839f25d086af736a60e9eeb907d3b93b6e0e5",
    "execution": {
     "iopub.execute_input": "2024-06-23T22:38:01.305896Z",
     "iopub.status.busy": "2024-06-23T22:38:01.305536Z",
     "iopub.status.idle": "2024-06-23T22:38:01.316746Z",
     "shell.execute_reply": "2024-06-23T22:38:01.315806Z"
    },
    "papermill": {
     "duration": 0.020607,
     "end_time": "2024-06-23T22:38:01.318849",
     "exception": false,
     "start_time": "2024-06-23T22:38:01.298242",
     "status": "completed"
    },
    "tags": []
   },
   "outputs": [],
   "source": [
    "import os\n",
    "os.environ['KERAS_BACKEND'] = 'tensorflow'\n"
   ]
  },
  {
   "cell_type": "code",
   "execution_count": 2,
   "id": "c2e1c397",
   "metadata": {
    "_cell_guid": "b1076dfc-b9ad-4769-8c92-a6c4dae69d19",
    "_uuid": "8f2839f25d086af736a60e9eeb907d3b93b6e0e5",
    "execution": {
     "iopub.execute_input": "2024-06-23T22:38:01.332553Z",
     "iopub.status.busy": "2024-06-23T22:38:01.332041Z",
     "iopub.status.idle": "2024-06-23T22:38:16.660675Z",
     "shell.execute_reply": "2024-06-23T22:38:16.659592Z"
    },
    "papermill": {
     "duration": 15.339249,
     "end_time": "2024-06-23T22:38:16.664350",
     "exception": false,
     "start_time": "2024-06-23T22:38:01.325101",
     "status": "completed"
    },
    "tags": []
   },
   "outputs": [
    {
     "name": "stderr",
     "output_type": "stream",
     "text": [
      "2024-06-23 22:38:03.844766: E external/local_xla/xla/stream_executor/cuda/cuda_dnn.cc:9261] Unable to register cuDNN factory: Attempting to register factory for plugin cuDNN when one has already been registered\n",
      "2024-06-23 22:38:03.844869: E external/local_xla/xla/stream_executor/cuda/cuda_fft.cc:607] Unable to register cuFFT factory: Attempting to register factory for plugin cuFFT when one has already been registered\n",
      "2024-06-23 22:38:03.975635: E external/local_xla/xla/stream_executor/cuda/cuda_blas.cc:1515] Unable to register cuBLAS factory: Attempting to register factory for plugin cuBLAS when one has already been registered\n"
     ]
    },
    {
     "name": "stdout",
     "output_type": "stream",
     "text": [
      "TensorFlow version: 2.15.0\n",
      "Keras version: 2.15.0\n",
      "KerasNLP version: 0.12.1\n"
     ]
    }
   ],
   "source": [
    "import numpy as np # linear algebra\n",
    "import pandas as pd # data processing, CSV file I/O (e.g. pd.read_csv)\n",
    "import tensorflow as tf\n",
    "import keras\n",
    "import keras_nlp\n",
    "from sklearn.metrics import ConfusionMatrixDisplay, confusion_matrix\n",
    "import seaborn as sns\n",
    "import matplotlib.pyplot as plt\n",
    "from sklearn.model_selection import train_test_split, GridSearchCV\n",
    "\n",
    "\n",
    "print(\"TensorFlow version:\", tf.__version__)\n",
    "print(\"Keras version:\", tf.__version__)\n",
    "print(\"KerasNLP version:\", keras_nlp.__version__)"
   ]
  },
  {
   "cell_type": "markdown",
   "id": "c0efc0bb",
   "metadata": {
    "papermill": {
     "duration": 0.006909,
     "end_time": "2024-06-23T22:38:16.679580",
     "exception": false,
     "start_time": "2024-06-23T22:38:16.672671",
     "status": "completed"
    },
    "tags": []
   },
   "source": [
    "**Step2: Exploratory Data Analysis (EDA)**\n",
    "\n",
    "In this section, we will load the disaster tweets dataset and perform an exploratory data analysis. We will display the data and identify features that are not essential for model training. Additionally, we have implemented a function to load only a fraction of the data for debugging purposes."
   ]
  },
  {
   "cell_type": "code",
   "execution_count": 3,
   "id": "69c270a7",
   "metadata": {
    "execution": {
     "iopub.execute_input": "2024-06-23T22:38:16.707516Z",
     "iopub.status.busy": "2024-06-23T22:38:16.706423Z",
     "iopub.status.idle": "2024-06-23T22:38:16.812635Z",
     "shell.execute_reply": "2024-06-23T22:38:16.811463Z"
    },
    "papermill": {
     "duration": 0.127861,
     "end_time": "2024-06-23T22:38:16.815601",
     "exception": false,
     "start_time": "2024-06-23T22:38:16.687740",
     "status": "completed"
    },
    "tags": []
   },
   "outputs": [
    {
     "name": "stdout",
     "output_type": "stream",
     "text": [
      "Training Set Shape = (7613, 5)\n",
      "Training Set Memory Usage = 0.35 MB\n",
      "Test Set Shape = (3263, 4)\n",
      "Test Set Memory Usage = 0.12 MB\n"
     ]
    },
    {
     "data": {
      "text/html": [
       "<div>\n",
       "<style scoped>\n",
       "    .dataframe tbody tr th:only-of-type {\n",
       "        vertical-align: middle;\n",
       "    }\n",
       "\n",
       "    .dataframe tbody tr th {\n",
       "        vertical-align: top;\n",
       "    }\n",
       "\n",
       "    .dataframe thead th {\n",
       "        text-align: right;\n",
       "    }\n",
       "</style>\n",
       "<table border=\"1\" class=\"dataframe\">\n",
       "  <thead>\n",
       "    <tr style=\"text-align: right;\">\n",
       "      <th></th>\n",
       "      <th>id</th>\n",
       "      <th>keyword</th>\n",
       "      <th>location</th>\n",
       "      <th>text</th>\n",
       "      <th>target</th>\n",
       "    </tr>\n",
       "  </thead>\n",
       "  <tbody>\n",
       "    <tr>\n",
       "      <th>2644</th>\n",
       "      <td>3796</td>\n",
       "      <td>destruction</td>\n",
       "      <td>NaN</td>\n",
       "      <td>So you have a new weapon that can cause un-ima...</td>\n",
       "      <td>1</td>\n",
       "    </tr>\n",
       "    <tr>\n",
       "      <th>2227</th>\n",
       "      <td>3185</td>\n",
       "      <td>deluge</td>\n",
       "      <td>NaN</td>\n",
       "      <td>The f$&amp;amp;@ing things I do for #GISHWHES Just...</td>\n",
       "      <td>0</td>\n",
       "    </tr>\n",
       "    <tr>\n",
       "      <th>5448</th>\n",
       "      <td>7769</td>\n",
       "      <td>police</td>\n",
       "      <td>UK</td>\n",
       "      <td>DT @georgegalloway: RT @Galloway4Mayor: ÛÏThe...</td>\n",
       "      <td>1</td>\n",
       "    </tr>\n",
       "    <tr>\n",
       "      <th>132</th>\n",
       "      <td>191</td>\n",
       "      <td>aftershock</td>\n",
       "      <td>NaN</td>\n",
       "      <td>Aftershock back to school kick off was great. ...</td>\n",
       "      <td>0</td>\n",
       "    </tr>\n",
       "    <tr>\n",
       "      <th>6845</th>\n",
       "      <td>9810</td>\n",
       "      <td>trauma</td>\n",
       "      <td>Montgomery County, MD</td>\n",
       "      <td>in response to trauma Children of Addicts deve...</td>\n",
       "      <td>0</td>\n",
       "    </tr>\n",
       "  </tbody>\n",
       "</table>\n",
       "</div>"
      ],
      "text/plain": [
       "        id      keyword               location  \\\n",
       "2644  3796  destruction                    NaN   \n",
       "2227  3185       deluge                    NaN   \n",
       "5448  7769       police                     UK   \n",
       "132    191   aftershock                    NaN   \n",
       "6845  9810       trauma  Montgomery County, MD   \n",
       "\n",
       "                                                   text  target  \n",
       "2644  So you have a new weapon that can cause un-ima...       1  \n",
       "2227  The f$&amp;@ing things I do for #GISHWHES Just...       0  \n",
       "5448  DT @georgegalloway: RT @Galloway4Mayor: ÛÏThe...       1  \n",
       "132   Aftershock back to school kick off was great. ...       0  \n",
       "6845  in response to trauma Children of Addicts deve...       0  "
      ]
     },
     "execution_count": 3,
     "metadata": {},
     "output_type": "execute_result"
    }
   ],
   "source": [
    "# Function to load data with an optional fraction for debugging\n",
    "def load_data(fraction=None):\n",
    "    df_train = pd.read_csv(\"/kaggle/input/nlp-getting-started/train.csv\")\n",
    "    df_test = pd.read_csv(\"/kaggle/input/nlp-getting-started/test.csv\")\n",
    "    \n",
    "    if fraction:\n",
    "        df_train = df_train.sample(frac=fraction, random_state=42)\n",
    "        df_test = df_test.sample(frac=fraction, random_state=42)\n",
    "    \n",
    "    print('Training Set Shape = {}'.format(df_train.shape))\n",
    "    print('Training Set Memory Usage = {:.2f} MB'.format(df_train.memory_usage().sum() / 1024**2))\n",
    "    print('Test Set Shape = {}'.format(df_test.shape))\n",
    "    print('Test Set Memory Usage = {:.2f} MB'.format(df_test.memory_usage().sum() / 1024**2))\n",
    "    \n",
    "    return df_train, df_test\n",
    "\n",
    "df_train, df_test = load_data(fraction=1.00)  # Adjust the fraction as needed\n",
    "\n",
    "df_train.head()"
   ]
  },
  {
   "cell_type": "code",
   "execution_count": 4,
   "id": "cdd7a574",
   "metadata": {
    "execution": {
     "iopub.execute_input": "2024-06-23T22:38:16.834949Z",
     "iopub.status.busy": "2024-06-23T22:38:16.834629Z",
     "iopub.status.idle": "2024-06-23T22:38:17.127801Z",
     "shell.execute_reply": "2024-06-23T22:38:17.126678Z"
    },
    "papermill": {
     "duration": 0.304005,
     "end_time": "2024-06-23T22:38:17.130029",
     "exception": false,
     "start_time": "2024-06-23T22:38:16.826024",
     "status": "completed"
    },
    "tags": []
   },
   "outputs": [
    {
     "data": {
      "image/png": "[encoded data removed]",
      "text/plain": [
       "<Figure size 800x600 with 1 Axes>"
      ]
     },
     "metadata": {},
     "output_type": "display_data"
    }
   ],
   "source": [
    "# Plotting the histogram \n",
    "plt.figure(figsize=(8, 6))\n",
    "plt.hist(df_train[df_train['target'] == 0]['target'], bins=[-0.5, 0.4], alpha=0.7, color='green', label='Non Disaster')\n",
    "plt.hist(df_train[df_train['target'] == 1]['target'], bins=[0.6, 1.5], alpha=0.7, color='red', label='Disaster')\n",
    "\n",
    "plt.xlabel('Target')\n",
    "plt.ylabel('Frequency')\n",
    "plt.title('Distribution of Disaster and Non-Disaster Tweets')\n",
    "\n",
    "# Set x-axis labels to only show 0 and 1, centered\n",
    "plt.xticks([0, 1], ['0', '1'])\n",
    "\n",
    "plt.grid(axis='y', linestyle='--', linewidth=0.7)\n",
    "plt.legend()\n",
    "plt.show()"
   ]
  },
  {
   "cell_type": "code",
   "execution_count": 5,
   "id": "549a3904",
   "metadata": {
    "execution": {
     "iopub.execute_input": "2024-06-23T22:38:17.146139Z",
     "iopub.status.busy": "2024-06-23T22:38:17.145724Z",
     "iopub.status.idle": "2024-06-23T22:38:17.160515Z",
     "shell.execute_reply": "2024-06-23T22:38:17.159321Z"
    },
    "papermill": {
     "duration": 0.025899,
     "end_time": "2024-06-23T22:38:17.163297",
     "exception": false,
     "start_time": "2024-06-23T22:38:17.137398",
     "status": "completed"
    },
    "tags": []
   },
   "outputs": [
    {
     "data": {
      "text/html": [
       "<div>\n",
       "<style scoped>\n",
       "    .dataframe tbody tr th:only-of-type {\n",
       "        vertical-align: middle;\n",
       "    }\n",
       "\n",
       "    .dataframe tbody tr th {\n",
       "        vertical-align: top;\n",
       "    }\n",
       "\n",
       "    .dataframe thead th {\n",
       "        text-align: right;\n",
       "    }\n",
       "</style>\n",
       "<table border=\"1\" class=\"dataframe\">\n",
       "  <thead>\n",
       "    <tr style=\"text-align: right;\">\n",
       "      <th></th>\n",
       "      <th>id</th>\n",
       "      <th>keyword</th>\n",
       "      <th>location</th>\n",
       "      <th>text</th>\n",
       "    </tr>\n",
       "  </thead>\n",
       "  <tbody>\n",
       "    <tr>\n",
       "      <th>2406</th>\n",
       "      <td>8051</td>\n",
       "      <td>refugees</td>\n",
       "      <td>NaN</td>\n",
       "      <td>Refugees as citizens - The Hindu http://t.co/G...</td>\n",
       "    </tr>\n",
       "    <tr>\n",
       "      <th>134</th>\n",
       "      <td>425</td>\n",
       "      <td>apocalypse</td>\n",
       "      <td>Currently Somewhere On Earth</td>\n",
       "      <td>@5SOStag honestly he could say an apocalypse i...</td>\n",
       "    </tr>\n",
       "    <tr>\n",
       "      <th>411</th>\n",
       "      <td>1330</td>\n",
       "      <td>blown%20up</td>\n",
       "      <td>Scout Team</td>\n",
       "      <td>If you bored as shit don't nobody fuck wit you...</td>\n",
       "    </tr>\n",
       "    <tr>\n",
       "      <th>203</th>\n",
       "      <td>663</td>\n",
       "      <td>attack</td>\n",
       "      <td>NaN</td>\n",
       "      <td>@RealTwanBrown Yesterday I Had A Heat Attack ?...</td>\n",
       "    </tr>\n",
       "    <tr>\n",
       "      <th>889</th>\n",
       "      <td>2930</td>\n",
       "      <td>danger</td>\n",
       "      <td>Leeds</td>\n",
       "      <td>The Devil Wears Prada is still one of my favou...</td>\n",
       "    </tr>\n",
       "  </tbody>\n",
       "</table>\n",
       "</div>"
      ],
      "text/plain": [
       "        id     keyword                      location  \\\n",
       "2406  8051    refugees                           NaN   \n",
       "134    425  apocalypse  Currently Somewhere On Earth   \n",
       "411   1330  blown%20up                   Scout Team    \n",
       "203    663      attack                           NaN   \n",
       "889   2930      danger                        Leeds    \n",
       "\n",
       "                                                   text  \n",
       "2406  Refugees as citizens - The Hindu http://t.co/G...  \n",
       "134   @5SOStag honestly he could say an apocalypse i...  \n",
       "411   If you bored as shit don't nobody fuck wit you...  \n",
       "203   @RealTwanBrown Yesterday I Had A Heat Attack ?...  \n",
       "889   The Devil Wears Prada is still one of my favou...  "
      ]
     },
     "execution_count": 5,
     "metadata": {},
     "output_type": "execute_result"
    }
   ],
   "source": [
    "df_test.head()"
   ]
  },
  {
   "cell_type": "markdown",
   "id": "28af4b37",
   "metadata": {
    "papermill": {
     "duration": 0.008003,
     "end_time": "2024-06-23T22:38:17.181387",
     "exception": false,
     "start_time": "2024-06-23T22:38:17.173384",
     "status": "completed"
    },
    "tags": []
   },
   "source": [
    "In the training DataFrame, only the 'text' and 'target' columns will be relevant for model training. All other irrelevant columns will be dropped. In the test DataFrame, only the 'text' column will be used. After cleaning the dataset, we will print some data statistics to provide a comprehensive overview."
   ]
  },
  {
   "cell_type": "code",
   "execution_count": 6,
   "id": "3b9ea89e",
   "metadata": {
    "execution": {
     "iopub.execute_input": "2024-06-23T22:38:17.197509Z",
     "iopub.status.busy": "2024-06-23T22:38:17.197157Z",
     "iopub.status.idle": "2024-06-23T22:38:17.224021Z",
     "shell.execute_reply": "2024-06-23T22:38:17.222652Z"
    },
    "papermill": {
     "duration": 0.037239,
     "end_time": "2024-06-23T22:38:17.226052",
     "exception": false,
     "start_time": "2024-06-23T22:38:17.188813",
     "status": "completed"
    },
    "tags": []
   },
   "outputs": [
    {
     "name": "stdout",
     "output_type": "stream",
     "text": [
      "Train Length Stat\n",
      "count    7613.000000\n",
      "mean      101.037436\n",
      "std        33.781325\n",
      "min         7.000000\n",
      "25%        78.000000\n",
      "50%       107.000000\n",
      "75%       133.000000\n",
      "max       157.000000\n",
      "Name: length, dtype: float64\n",
      "\n",
      "Test Length Stat\n",
      "count    3263.000000\n",
      "mean      102.108183\n",
      "std        33.972158\n",
      "min         5.000000\n",
      "25%        78.000000\n",
      "50%       109.000000\n",
      "75%       134.000000\n",
      "max       151.000000\n",
      "Name: length, dtype: float64\n"
     ]
    }
   ],
   "source": [
    "df_train[\"length\"] = df_train[\"text\"].apply(lambda x : len(x))\n",
    "df_test[\"length\"] = df_test[\"text\"].apply(lambda x : len(x))\n",
    "\n",
    "print(\"Train Length Stat\")\n",
    "print(df_train[\"length\"].describe())\n",
    "print()\n",
    "\n",
    "print(\"Test Length Stat\")\n",
    "print(df_test[\"length\"].describe())"
   ]
  },
  {
   "cell_type": "markdown",
   "id": "a7732643",
   "metadata": {
    "papermill": {
     "duration": 0.008343,
     "end_time": "2024-06-23T22:38:17.241994",
     "exception": false,
     "start_time": "2024-06-23T22:38:17.233651",
     "status": "completed"
    },
    "tags": []
   },
   "source": [
    "**STEP 3: Model Arquitecture** \n",
    "\n",
    "In this step, we will preprocess the data, batch it, and split it into training and validation sets. We will also specify the hyperparameters of the models.\n",
    "\n",
    "Regardind the arquitectures, the Keras starter guide utilizes DistilBERT as the pre-trained model. DistilBERT is a smaller, faster, and lighter version of BERT, making it a practical choice for our needs due to its ease of availability and efficient upload time. This model maintains 97% of BERT's performance while being 60% faster and 40% lighter, which is advantageous for both training and deployment.\n",
    "\n",
    "In addition to DistilBERT, we will train other architectures to compare the results. This other arquitectures are:\n",
    "\n",
    "FNet: FNet is chosen because it introduces a Fourier Transform-based architecture that is less computationally intensive than traditional transformers. This allows it to handle longer sequences more efficiently, potentially offering performance benefits in terms of both speed and memory usage.\n",
    "\n",
    "ALBERT: ALBERT (A Lite BERT) is another variant of BERT that reduces the model size through parameter-sharing and factorized embeddings. It is designed to be lighter and faster while still delivering robust performance, making it a good candidate for comparison against DistilBERT and FNet.\n",
    "\n",
    "The main criteria for this selection was the model size, the performance and the availability.We also tried to use Mistral, GPT2 and Electra, but were quite heavy to download and the resources available at Kaggle were not adequate for this purpose. \n",
    "\n",
    "After fine-tuning these models and performing hyperparameter optimization, we will evaluate their performance to determine the most effective model for our task. Key metrics for this evaluation will include accuracy and F1 score.\n"
   ]
  },
  {
   "cell_type": "code",
   "execution_count": 7,
   "id": "dfed4e80",
   "metadata": {
    "execution": {
     "iopub.execute_input": "2024-06-23T22:38:17.258029Z",
     "iopub.status.busy": "2024-06-23T22:38:17.257719Z",
     "iopub.status.idle": "2024-06-23T22:38:17.262778Z",
     "shell.execute_reply": "2024-06-23T22:38:17.261837Z"
    },
    "papermill": {
     "duration": 0.015421,
     "end_time": "2024-06-23T22:38:17.264728",
     "exception": false,
     "start_time": "2024-06-23T22:38:17.249307",
     "status": "completed"
    },
    "tags": []
   },
   "outputs": [],
   "source": [
    "BATCH_SIZE = 32\n",
    "NUM_TRAINING_EXAMPLES = df_train.shape[0]\n",
    "TRAIN_SPLIT = 0.8\n",
    "VAL_SPLIT = 0.2\n",
    "STEPS_PER_EPOCH = int(NUM_TRAINING_EXAMPLES)*TRAIN_SPLIT // BATCH_SIZE\n",
    "\n",
    "EPOCHS = 2\n",
    "AUTO = tf.data.experimental.AUTOTUNE"
   ]
  },
  {
   "cell_type": "code",
   "execution_count": 8,
   "id": "a50a73b8",
   "metadata": {
    "execution": {
     "iopub.execute_input": "2024-06-23T22:38:17.280923Z",
     "iopub.status.busy": "2024-06-23T22:38:17.280643Z",
     "iopub.status.idle": "2024-06-23T22:38:17.288385Z",
     "shell.execute_reply": "2024-06-23T22:38:17.287570Z"
    },
    "papermill": {
     "duration": 0.018407,
     "end_time": "2024-06-23T22:38:17.290446",
     "exception": false,
     "start_time": "2024-06-23T22:38:17.272039",
     "status": "completed"
    },
    "tags": []
   },
   "outputs": [],
   "source": [
    "# Split the data\n",
    "X = df_train[\"text\"]\n",
    "Y = df_train[\"target\"]\n",
    "X_train, X_val, Y_train, Y_val = train_test_split(X, Y, test_size=VAL_SPLIT, random_state=42)\n",
    "X_test = df_test[\"text\"]"
   ]
  },
  {
   "cell_type": "markdown",
   "id": "65f0f8ca",
   "metadata": {
    "papermill": {
     "duration": 0.007192,
     "end_time": "2024-06-23T22:38:17.305744",
     "exception": false,
     "start_time": "2024-06-23T22:38:17.298552",
     "status": "completed"
    },
    "tags": []
   },
   "source": [
    "To streamline the process, we will create functions for each model."
   ]
  },
  {
   "cell_type": "code",
   "execution_count": 9,
   "id": "2d5564c5",
   "metadata": {
    "execution": {
     "iopub.execute_input": "2024-06-23T22:38:17.322350Z",
     "iopub.status.busy": "2024-06-23T22:38:17.321584Z",
     "iopub.status.idle": "2024-06-23T22:42:16.858080Z",
     "shell.execute_reply": "2024-06-23T22:42:16.857153Z"
    },
    "papermill": {
     "duration": 239.547526,
     "end_time": "2024-06-23T22:42:16.860634",
     "exception": false,
     "start_time": "2024-06-23T22:38:17.313108",
     "status": "completed"
    },
    "tags": []
   },
   "outputs": [
    {
     "name": "stderr",
     "output_type": "stream",
     "text": [
      "Attaching 'metadata.json' from model 'keras/distil_bert/keras/distil_bert_base_en_uncased/2' to your Kaggle notebook...\n",
      "Attaching 'metadata.json' from model 'keras/distil_bert/keras/distil_bert_base_en_uncased/2' to your Kaggle notebook...\n",
      "Attaching 'preprocessor.json' from model 'keras/distil_bert/keras/distil_bert_base_en_uncased/2' to your Kaggle notebook...\n",
      "Attaching 'tokenizer.json' from model 'keras/distil_bert/keras/distil_bert_base_en_uncased/2' to your Kaggle notebook...\n",
      "Attaching 'tokenizer.json' from model 'keras/distil_bert/keras/distil_bert_base_en_uncased/2' to your Kaggle notebook...\n",
      "Attaching 'assets/tokenizer/vocabulary.txt' from model 'keras/distil_bert/keras/distil_bert_base_en_uncased/2' to your Kaggle notebook...\n",
      "Attaching 'metadata.json' from model 'keras/distil_bert/keras/distil_bert_base_en_uncased/2' to your Kaggle notebook...\n",
      "Attaching 'metadata.json' from model 'keras/distil_bert/keras/distil_bert_base_en_uncased/2' to your Kaggle notebook...\n",
      "Attaching 'task.json' from model 'keras/distil_bert/keras/distil_bert_base_en_uncased/2' to your Kaggle notebook...\n",
      "Attaching 'config.json' from model 'keras/distil_bert/keras/distil_bert_base_en_uncased/2' to your Kaggle notebook...\n",
      "Attaching 'metadata.json' from model 'keras/distil_bert/keras/distil_bert_base_en_uncased/2' to your Kaggle notebook...\n",
      "Attaching 'metadata.json' from model 'keras/distil_bert/keras/distil_bert_base_en_uncased/2' to your Kaggle notebook...\n",
      "Attaching 'config.json' from model 'keras/distil_bert/keras/distil_bert_base_en_uncased/2' to your Kaggle notebook...\n",
      "Attaching 'config.json' from model 'keras/distil_bert/keras/distil_bert_base_en_uncased/2' to your Kaggle notebook...\n",
      "Attaching 'model.weights.h5' from model 'keras/distil_bert/keras/distil_bert_base_en_uncased/2' to your Kaggle notebook...\n"
     ]
    },
    {
     "name": "stdout",
     "output_type": "stream",
     "text": [
      "Epoch 1/2\n"
     ]
    },
    {
     "name": "stderr",
     "output_type": "stream",
     "text": [
      "WARNING: All log messages before absl::InitializeLog() is called are written to STDERR\n",
      "I0000 00:00:1719182363.767802      66 device_compiler.h:186] Compiled cluster using XLA!  This line is logged at most once for the lifetime of the process.\n",
      "W0000 00:00:1719182363.813022      66 graph_launch.cc:671] Fallback to op-by-op mode because memset node breaks graph update\n"
     ]
    },
    {
     "name": "stdout",
     "output_type": "stream",
     "text": [
      "\u001b[1m191/191\u001b[0m \u001b[32m━━━━━━━━━━━━━━━━━━━━\u001b[0m\u001b[37m\u001b[0m \u001b[1m0s\u001b[0m 425ms/step - accuracy: 0.7183 - loss: 0.5824"
     ]
    },
    {
     "name": "stderr",
     "output_type": "stream",
     "text": [
      "W0000 00:00:1719182444.781325      68 graph_launch.cc:671] Fallback to op-by-op mode because memset node breaks graph update\n",
      "W0000 00:00:1719182448.212796      67 graph_launch.cc:671] Fallback to op-by-op mode because memset node breaks graph update\n"
     ]
    },
    {
     "name": "stdout",
     "output_type": "stream",
     "text": [
      "\u001b[1m191/191\u001b[0m \u001b[32m━━━━━━━━━━━━━━━━━━━━\u001b[0m\u001b[37m\u001b[0m \u001b[1m146s\u001b[0m 469ms/step - accuracy: 0.7187 - loss: 0.5819 - val_accuracy: 0.8142 - val_loss: 0.4143\n",
      "Epoch 2/2\n"
     ]
    },
    {
     "name": "stderr",
     "output_type": "stream",
     "text": [
      "W0000 00:00:1719182453.167650      68 graph_launch.cc:671] Fallback to op-by-op mode because memset node breaks graph update\n"
     ]
    },
    {
     "name": "stdout",
     "output_type": "stream",
     "text": [
      "\u001b[1m191/191\u001b[0m \u001b[32m━━━━━━━━━━━━━━━━━━━━\u001b[0m\u001b[37m\u001b[0m \u001b[1m47s\u001b[0m 246ms/step - accuracy: 0.8472 - loss: 0.3748 - val_accuracy: 0.8214 - val_loss: 0.4059\n"
     ]
    }
   ],
   "source": [
    "\n",
    "def build_distilbert_model(learning_rate=1e-5):\n",
    "    preset = \"distil_bert_base_en_uncased\"\n",
    "    preprocessor = keras_nlp.models.DistilBertPreprocessor.from_preset(preset, sequence_length=160)\n",
    "    classifier = keras_nlp.models.DistilBertClassifier.from_preset(preset, preprocessor=preprocessor, num_classes=2)\n",
    "    classifier.compile(\n",
    "        loss=keras.losses.SparseCategoricalCrossentropy(from_logits=True),\n",
    "        optimizer=keras.optimizers.Adam(learning_rate),\n",
    "        metrics=[\"accuracy\"]\n",
    "    )\n",
    "    return classifier\n",
    "\n",
    "# Train and save the base DistilBERT model\n",
    "base_distilbert_model = build_distilbert_model()\n",
    "base_distilbert_model.fit(X_train, Y_train, batch_size=BATCH_SIZE, epochs=EPOCHS, validation_data=(X_val, Y_val))\n",
    "base_distilbert_model.save(\"base_distilbert_model.h5\")\n"
   ]
  },
  {
   "cell_type": "code",
   "execution_count": 10,
   "id": "6f5919d9",
   "metadata": {
    "execution": {
     "iopub.execute_input": "2024-06-23T22:42:16.940772Z",
     "iopub.status.busy": "2024-06-23T22:42:16.940429Z",
     "iopub.status.idle": "2024-06-23T22:52:37.326958Z",
     "shell.execute_reply": "2024-06-23T22:52:37.326035Z"
    },
    "papermill": {
     "duration": 620.429041,
     "end_time": "2024-06-23T22:52:37.329245",
     "exception": false,
     "start_time": "2024-06-23T22:42:16.900204",
     "status": "completed"
    },
    "tags": []
   },
   "outputs": [
    {
     "name": "stderr",
     "output_type": "stream",
     "text": [
      "Attaching 'metadata.json' from model 'keras/distil_bert/keras/distil_bert_base_en_uncased/2' to your Kaggle notebook...\n",
      "Attaching 'metadata.json' from model 'keras/distil_bert/keras/distil_bert_base_en_uncased/2' to your Kaggle notebook...\n",
      "Attaching 'preprocessor.json' from model 'keras/distil_bert/keras/distil_bert_base_en_uncased/2' to your Kaggle notebook...\n",
      "Attaching 'tokenizer.json' from model 'keras/distil_bert/keras/distil_bert_base_en_uncased/2' to your Kaggle notebook...\n",
      "Attaching 'tokenizer.json' from model 'keras/distil_bert/keras/distil_bert_base_en_uncased/2' to your Kaggle notebook...\n",
      "Attaching 'assets/tokenizer/vocabulary.txt' from model 'keras/distil_bert/keras/distil_bert_base_en_uncased/2' to your Kaggle notebook...\n",
      "Attaching 'metadata.json' from model 'keras/distil_bert/keras/distil_bert_base_en_uncased/2' to your Kaggle notebook...\n",
      "Attaching 'metadata.json' from model 'keras/distil_bert/keras/distil_bert_base_en_uncased/2' to your Kaggle notebook...\n",
      "Attaching 'task.json' from model 'keras/distil_bert/keras/distil_bert_base_en_uncased/2' to your Kaggle notebook...\n",
      "Attaching 'config.json' from model 'keras/distil_bert/keras/distil_bert_base_en_uncased/2' to your Kaggle notebook...\n",
      "Attaching 'metadata.json' from model 'keras/distil_bert/keras/distil_bert_base_en_uncased/2' to your Kaggle notebook...\n",
      "Attaching 'metadata.json' from model 'keras/distil_bert/keras/distil_bert_base_en_uncased/2' to your Kaggle notebook...\n",
      "Attaching 'config.json' from model 'keras/distil_bert/keras/distil_bert_base_en_uncased/2' to your Kaggle notebook...\n",
      "Attaching 'config.json' from model 'keras/distil_bert/keras/distil_bert_base_en_uncased/2' to your Kaggle notebook...\n",
      "Attaching 'model.weights.h5' from model 'keras/distil_bert/keras/distil_bert_base_en_uncased/2' to your Kaggle notebook...\n"
     ]
    },
    {
     "name": "stdout",
     "output_type": "stream",
     "text": [
      "Epoch 1/2\n"
     ]
    },
    {
     "name": "stderr",
     "output_type": "stream",
     "text": [
      "W0000 00:00:1719182600.640781      66 graph_launch.cc:671] Fallback to op-by-op mode because memset node breaks graph update\n"
     ]
    },
    {
     "name": "stdout",
     "output_type": "stream",
     "text": [
      "\u001b[1m191/191\u001b[0m \u001b[32m━━━━━━━━━━━━━━━━━━━━\u001b[0m\u001b[37m\u001b[0m \u001b[1m0s\u001b[0m 413ms/step - accuracy: 0.7207 - loss: 0.5707"
     ]
    },
    {
     "name": "stderr",
     "output_type": "stream",
     "text": [
      "W0000 00:00:1719182679.254574      67 graph_launch.cc:671] Fallback to op-by-op mode because memset node breaks graph update\n",
      "W0000 00:00:1719182682.466163      69 graph_launch.cc:671] Fallback to op-by-op mode because memset node breaks graph update\n"
     ]
    },
    {
     "name": "stdout",
     "output_type": "stream",
     "text": [
      "\u001b[1m191/191\u001b[0m \u001b[32m━━━━━━━━━━━━━━━━━━━━\u001b[0m\u001b[37m\u001b[0m \u001b[1m142s\u001b[0m 453ms/step - accuracy: 0.7210 - loss: 0.5703 - val_accuracy: 0.8280 - val_loss: 0.4072\n",
      "Epoch 2/2\n"
     ]
    },
    {
     "name": "stderr",
     "output_type": "stream",
     "text": [
      "W0000 00:00:1719182686.968241      67 graph_launch.cc:671] Fallback to op-by-op mode because memset node breaks graph update\n"
     ]
    },
    {
     "name": "stdout",
     "output_type": "stream",
     "text": [
      "\u001b[1m191/191\u001b[0m \u001b[32m━━━━━━━━━━━━━━━━━━━━\u001b[0m\u001b[37m\u001b[0m \u001b[1m47s\u001b[0m 246ms/step - accuracy: 0.8478 - loss: 0.3750 - val_accuracy: 0.8326 - val_loss: 0.4033\n",
      "\u001b[1m48/48\u001b[0m \u001b[32m━━━━━━━━━━━━━━━━━━━━\u001b[0m\u001b[37m\u001b[0m \u001b[1m4s\u001b[0m 71ms/step - accuracy: 0.8162 - loss: 0.4283\n"
     ]
    },
    {
     "name": "stderr",
     "output_type": "stream",
     "text": [
      "Attaching 'metadata.json' from model 'keras/distil_bert/keras/distil_bert_base_en_uncased/2' to your Kaggle notebook...\n",
      "Attaching 'metadata.json' from model 'keras/distil_bert/keras/distil_bert_base_en_uncased/2' to your Kaggle notebook...\n",
      "Attaching 'preprocessor.json' from model 'keras/distil_bert/keras/distil_bert_base_en_uncased/2' to your Kaggle notebook...\n",
      "Attaching 'tokenizer.json' from model 'keras/distil_bert/keras/distil_bert_base_en_uncased/2' to your Kaggle notebook...\n",
      "Attaching 'tokenizer.json' from model 'keras/distil_bert/keras/distil_bert_base_en_uncased/2' to your Kaggle notebook...\n",
      "Attaching 'assets/tokenizer/vocabulary.txt' from model 'keras/distil_bert/keras/distil_bert_base_en_uncased/2' to your Kaggle notebook...\n",
      "Attaching 'metadata.json' from model 'keras/distil_bert/keras/distil_bert_base_en_uncased/2' to your Kaggle notebook...\n",
      "Attaching 'metadata.json' from model 'keras/distil_bert/keras/distil_bert_base_en_uncased/2' to your Kaggle notebook...\n",
      "Attaching 'task.json' from model 'keras/distil_bert/keras/distil_bert_base_en_uncased/2' to your Kaggle notebook...\n",
      "Attaching 'config.json' from model 'keras/distil_bert/keras/distil_bert_base_en_uncased/2' to your Kaggle notebook...\n",
      "Attaching 'metadata.json' from model 'keras/distil_bert/keras/distil_bert_base_en_uncased/2' to your Kaggle notebook...\n",
      "Attaching 'metadata.json' from model 'keras/distil_bert/keras/distil_bert_base_en_uncased/2' to your Kaggle notebook...\n",
      "Attaching 'config.json' from model 'keras/distil_bert/keras/distil_bert_base_en_uncased/2' to your Kaggle notebook...\n",
      "Attaching 'config.json' from model 'keras/distil_bert/keras/distil_bert_base_en_uncased/2' to your Kaggle notebook...\n",
      "Attaching 'model.weights.h5' from model 'keras/distil_bert/keras/distil_bert_base_en_uncased/2' to your Kaggle notebook...\n"
     ]
    },
    {
     "name": "stdout",
     "output_type": "stream",
     "text": [
      "Epoch 1/2\n"
     ]
    },
    {
     "name": "stderr",
     "output_type": "stream",
     "text": [
      "W0000 00:00:1719182801.602134      69 graph_launch.cc:671] Fallback to op-by-op mode because memset node breaks graph update\n"
     ]
    },
    {
     "name": "stdout",
     "output_type": "stream",
     "text": [
      "\u001b[1m191/191\u001b[0m \u001b[32m━━━━━━━━━━━━━━━━━━━━\u001b[0m\u001b[37m\u001b[0m \u001b[1m0s\u001b[0m 441ms/step - accuracy: 0.7742 - loss: 0.5023"
     ]
    },
    {
     "name": "stderr",
     "output_type": "stream",
     "text": [
      "W0000 00:00:1719182885.563492      66 graph_launch.cc:671] Fallback to op-by-op mode because memset node breaks graph update\n",
      "W0000 00:00:1719182888.891449      69 graph_launch.cc:671] Fallback to op-by-op mode because memset node breaks graph update\n"
     ]
    },
    {
     "name": "stdout",
     "output_type": "stream",
     "text": [
      "\u001b[1m191/191\u001b[0m \u001b[32m━━━━━━━━━━━━━━━━━━━━\u001b[0m\u001b[37m\u001b[0m \u001b[1m146s\u001b[0m 482ms/step - accuracy: 0.7743 - loss: 0.5020 - val_accuracy: 0.8234 - val_loss: 0.4042\n",
      "Epoch 2/2\n"
     ]
    },
    {
     "name": "stderr",
     "output_type": "stream",
     "text": [
      "W0000 00:00:1719182893.386998      68 graph_launch.cc:671] Fallback to op-by-op mode because memset node breaks graph update\n"
     ]
    },
    {
     "name": "stdout",
     "output_type": "stream",
     "text": [
      "\u001b[1m191/191\u001b[0m \u001b[32m━━━━━━━━━━━━━━━━━━━━\u001b[0m\u001b[37m\u001b[0m \u001b[1m47s\u001b[0m 247ms/step - accuracy: 0.8680 - loss: 0.3331 - val_accuracy: 0.8339 - val_loss: 0.4065\n",
      "\u001b[1m48/48\u001b[0m \u001b[32m━━━━━━━━━━━━━━━━━━━━\u001b[0m\u001b[37m\u001b[0m \u001b[1m4s\u001b[0m 71ms/step - accuracy: 0.8184 - loss: 0.4436\n"
     ]
    },
    {
     "name": "stderr",
     "output_type": "stream",
     "text": [
      "Attaching 'metadata.json' from model 'keras/distil_bert/keras/distil_bert_base_en_uncased/2' to your Kaggle notebook...\n",
      "Attaching 'metadata.json' from model 'keras/distil_bert/keras/distil_bert_base_en_uncased/2' to your Kaggle notebook...\n",
      "Attaching 'preprocessor.json' from model 'keras/distil_bert/keras/distil_bert_base_en_uncased/2' to your Kaggle notebook...\n",
      "Attaching 'tokenizer.json' from model 'keras/distil_bert/keras/distil_bert_base_en_uncased/2' to your Kaggle notebook...\n",
      "Attaching 'tokenizer.json' from model 'keras/distil_bert/keras/distil_bert_base_en_uncased/2' to your Kaggle notebook...\n",
      "Attaching 'assets/tokenizer/vocabulary.txt' from model 'keras/distil_bert/keras/distil_bert_base_en_uncased/2' to your Kaggle notebook...\n",
      "Attaching 'metadata.json' from model 'keras/distil_bert/keras/distil_bert_base_en_uncased/2' to your Kaggle notebook...\n",
      "Attaching 'metadata.json' from model 'keras/distil_bert/keras/distil_bert_base_en_uncased/2' to your Kaggle notebook...\n",
      "Attaching 'task.json' from model 'keras/distil_bert/keras/distil_bert_base_en_uncased/2' to your Kaggle notebook...\n",
      "Attaching 'config.json' from model 'keras/distil_bert/keras/distil_bert_base_en_uncased/2' to your Kaggle notebook...\n",
      "Attaching 'metadata.json' from model 'keras/distil_bert/keras/distil_bert_base_en_uncased/2' to your Kaggle notebook...\n",
      "Attaching 'metadata.json' from model 'keras/distil_bert/keras/distil_bert_base_en_uncased/2' to your Kaggle notebook...\n",
      "Attaching 'config.json' from model 'keras/distil_bert/keras/distil_bert_base_en_uncased/2' to your Kaggle notebook...\n",
      "Attaching 'config.json' from model 'keras/distil_bert/keras/distil_bert_base_en_uncased/2' to your Kaggle notebook...\n",
      "Attaching 'model.weights.h5' from model 'keras/distil_bert/keras/distil_bert_base_en_uncased/2' to your Kaggle notebook...\n"
     ]
    },
    {
     "name": "stdout",
     "output_type": "stream",
     "text": [
      "Epoch 1/2\n"
     ]
    },
    {
     "name": "stderr",
     "output_type": "stream",
     "text": [
      "W0000 00:00:1719183012.121794      67 graph_launch.cc:671] Fallback to op-by-op mode because memset node breaks graph update\n"
     ]
    },
    {
     "name": "stdout",
     "output_type": "stream",
     "text": [
      "\u001b[1m191/191\u001b[0m \u001b[32m━━━━━━━━━━━━━━━━━━━━\u001b[0m\u001b[37m\u001b[0m \u001b[1m0s\u001b[0m 440ms/step - accuracy: 0.7518 - loss: 0.5060"
     ]
    },
    {
     "name": "stderr",
     "output_type": "stream",
     "text": [
      "W0000 00:00:1719183095.930107      67 graph_launch.cc:671] Fallback to op-by-op mode because memset node breaks graph update\n",
      "W0000 00:00:1719183099.300549      67 graph_launch.cc:671] Fallback to op-by-op mode because memset node breaks graph update\n"
     ]
    },
    {
     "name": "stdout",
     "output_type": "stream",
     "text": [
      "\u001b[1m191/191\u001b[0m \u001b[32m━━━━━━━━━━━━━━━━━━━━\u001b[0m\u001b[37m\u001b[0m \u001b[1m148s\u001b[0m 482ms/step - accuracy: 0.7520 - loss: 0.5057 - val_accuracy: 0.8299 - val_loss: 0.3953\n",
      "Epoch 2/2\n"
     ]
    },
    {
     "name": "stderr",
     "output_type": "stream",
     "text": [
      "W0000 00:00:1719183103.819141      67 graph_launch.cc:671] Fallback to op-by-op mode because memset node breaks graph update\n"
     ]
    },
    {
     "name": "stdout",
     "output_type": "stream",
     "text": [
      "\u001b[1m191/191\u001b[0m \u001b[32m━━━━━━━━━━━━━━━━━━━━\u001b[0m\u001b[37m\u001b[0m \u001b[1m47s\u001b[0m 247ms/step - accuracy: 0.8731 - loss: 0.3179 - val_accuracy: 0.8148 - val_loss: 0.4530\n",
      "\u001b[1m48/48\u001b[0m \u001b[32m━━━━━━━━━━━━━━━━━━━━\u001b[0m\u001b[37m\u001b[0m \u001b[1m4s\u001b[0m 71ms/step - accuracy: 0.8074 - loss: 0.4883\n"
     ]
    }
   ],
   "source": [
    "\n",
    "# Hyperparameter optimization for DistilBERT\n",
    "learning_rates = [1e-5, 3e-5, 5e-5]\n",
    "best_accuracy = 0\n",
    "improved_distilbert_model = None\n",
    "\n",
    "for lr in learning_rates:\n",
    "    model = build_distilbert_model(learning_rate=lr)\n",
    "    model.fit(X_train, Y_train, batch_size=BATCH_SIZE, epochs=EPOCHS, validation_data=(X_val, Y_val))\n",
    "    val_accuracy = model.evaluate(X_val, Y_val)[1]\n",
    "    if val_accuracy > best_accuracy:\n",
    "        best_accuracy = val_accuracy\n",
    "        improved_distilbert_model = model\n",
    "\n",
    "# Save the best model\n",
    "improved_distilbert_model.save(\"best_distilbert_model.h5\")\n"
   ]
  },
  {
   "cell_type": "code",
   "execution_count": 11,
   "id": "b2c79225",
   "metadata": {
    "execution": {
     "iopub.execute_input": "2024-06-23T22:52:37.625823Z",
     "iopub.status.busy": "2024-06-23T22:52:37.625069Z",
     "iopub.status.idle": "2024-06-23T22:56:14.900357Z",
     "shell.execute_reply": "2024-06-23T22:56:14.899292Z"
    },
    "papermill": {
     "duration": 217.426103,
     "end_time": "2024-06-23T22:56:14.902765",
     "exception": false,
     "start_time": "2024-06-23T22:52:37.476662",
     "status": "completed"
    },
    "tags": []
   },
   "outputs": [
    {
     "name": "stderr",
     "output_type": "stream",
     "text": [
      "Attaching 'metadata.json' from model 'keras/albert/keras/albert_base_en_uncased/2' to your Kaggle notebook...\n",
      "Attaching 'metadata.json' from model 'keras/albert/keras/albert_base_en_uncased/2' to your Kaggle notebook...\n",
      "Attaching 'preprocessor.json' from model 'keras/albert/keras/albert_base_en_uncased/2' to your Kaggle notebook...\n",
      "Attaching 'tokenizer.json' from model 'keras/albert/keras/albert_base_en_uncased/2' to your Kaggle notebook...\n",
      "Attaching 'tokenizer.json' from model 'keras/albert/keras/albert_base_en_uncased/2' to your Kaggle notebook...\n",
      "Attaching 'assets/tokenizer/vocabulary.spm' from model 'keras/albert/keras/albert_base_en_uncased/2' to your Kaggle notebook...\n",
      "Attaching 'metadata.json' from model 'keras/albert/keras/albert_base_en_uncased/2' to your Kaggle notebook...\n",
      "Attaching 'metadata.json' from model 'keras/albert/keras/albert_base_en_uncased/2' to your Kaggle notebook...\n",
      "Attaching 'task.json' from model 'keras/albert/keras/albert_base_en_uncased/2' to your Kaggle notebook...\n",
      "Attaching 'config.json' from model 'keras/albert/keras/albert_base_en_uncased/2' to your Kaggle notebook...\n",
      "Attaching 'metadata.json' from model 'keras/albert/keras/albert_base_en_uncased/2' to your Kaggle notebook...\n",
      "Attaching 'metadata.json' from model 'keras/albert/keras/albert_base_en_uncased/2' to your Kaggle notebook...\n",
      "Attaching 'config.json' from model 'keras/albert/keras/albert_base_en_uncased/2' to your Kaggle notebook...\n",
      "Attaching 'config.json' from model 'keras/albert/keras/albert_base_en_uncased/2' to your Kaggle notebook...\n",
      "Attaching 'model.weights.h5' from model 'keras/albert/keras/albert_base_en_uncased/2' to your Kaggle notebook...\n"
     ]
    },
    {
     "name": "stdout",
     "output_type": "stream",
     "text": [
      "Epoch 1/2\n"
     ]
    },
    {
     "name": "stderr",
     "output_type": "stream",
     "text": [
      "W0000 00:00:1719183191.378947      68 graph_launch.cc:671] Fallback to op-by-op mode because memset node breaks graph update\n"
     ]
    },
    {
     "name": "stdout",
     "output_type": "stream",
     "text": [
      "\u001b[1m191/191\u001b[0m \u001b[32m━━━━━━━━━━━━━━━━━━━━\u001b[0m\u001b[37m\u001b[0m \u001b[1m0s\u001b[0m 457ms/step - accuracy: 0.6859 - loss: 0.5858"
     ]
    },
    {
     "name": "stderr",
     "output_type": "stream",
     "text": [
      "W0000 00:00:1719183278.428517      68 graph_launch.cc:671] Fallback to op-by-op mode because memset node breaks graph update\n",
      "W0000 00:00:1719183282.861193      67 graph_launch.cc:671] Fallback to op-by-op mode because memset node breaks graph update\n"
     ]
    },
    {
     "name": "stdout",
     "output_type": "stream",
     "text": [
      "\u001b[1m191/191\u001b[0m \u001b[32m━━━━━━━━━━━━━━━━━━━━\u001b[0m\u001b[37m\u001b[0m \u001b[1m127s\u001b[0m 524ms/step - accuracy: 0.6862 - loss: 0.5855 - val_accuracy: 0.7787 - val_loss: 0.4844\n",
      "Epoch 2/2\n"
     ]
    },
    {
     "name": "stderr",
     "output_type": "stream",
     "text": [
      "W0000 00:00:1719183291.305346      69 graph_launch.cc:671] Fallback to op-by-op mode because memset node breaks graph update\n"
     ]
    },
    {
     "name": "stdout",
     "output_type": "stream",
     "text": [
      "\u001b[1m191/191\u001b[0m \u001b[32m━━━━━━━━━━━━━━━━━━━━\u001b[0m\u001b[37m\u001b[0m \u001b[1m83s\u001b[0m 435ms/step - accuracy: 0.7923 - loss: 0.4550 - val_accuracy: 0.7892 - val_loss: 0.4630\n"
     ]
    }
   ],
   "source": [
    "def build_albert_model():\n",
    "    preset = \"albert_base_en_uncased\"\n",
    "    preprocessor = keras_nlp.models.AlbertPreprocessor.from_preset(preset, sequence_length=160)\n",
    "    classifier = keras_nlp.models.AlbertClassifier.from_preset(preset, preprocessor=preprocessor, num_classes=2)\n",
    "    classifier.compile(\n",
    "        loss=keras.losses.SparseCategoricalCrossentropy(from_logits=True),\n",
    "        optimizer=keras.optimizers.Adam(1e-5),\n",
    "        metrics=[\"accuracy\"]\n",
    "    )\n",
    "    return classifier\n",
    "\n",
    "albert_model = build_albert_model()\n",
    "albert_model.fit(X_train, Y_train, batch_size=BATCH_SIZE, epochs=EPOCHS, validation_data=(X_val, Y_val))\n",
    "albert_model.save(\"albert_model.h5\")"
   ]
  },
  {
   "cell_type": "code",
   "execution_count": 12,
   "id": "bce8030e",
   "metadata": {
    "execution": {
     "iopub.execute_input": "2024-06-23T22:56:15.284744Z",
     "iopub.status.busy": "2024-06-23T22:56:15.284297Z",
     "iopub.status.idle": "2024-06-23T22:59:47.712725Z",
     "shell.execute_reply": "2024-06-23T22:59:47.711841Z"
    },
    "papermill": {
     "duration": 212.631497,
     "end_time": "2024-06-23T22:59:47.715010",
     "exception": false,
     "start_time": "2024-06-23T22:56:15.083513",
     "status": "completed"
    },
    "tags": []
   },
   "outputs": [
    {
     "name": "stderr",
     "output_type": "stream",
     "text": [
      "Attaching 'metadata.json' from model 'keras/f_net/keras/f_net_base_en/2' to your Kaggle notebook...\n",
      "Attaching 'metadata.json' from model 'keras/f_net/keras/f_net_base_en/2' to your Kaggle notebook...\n",
      "Attaching 'preprocessor.json' from model 'keras/f_net/keras/f_net_base_en/2' to your Kaggle notebook...\n",
      "Attaching 'tokenizer.json' from model 'keras/f_net/keras/f_net_base_en/2' to your Kaggle notebook...\n",
      "Attaching 'tokenizer.json' from model 'keras/f_net/keras/f_net_base_en/2' to your Kaggle notebook...\n",
      "Attaching 'assets/tokenizer/vocabulary.spm' from model 'keras/f_net/keras/f_net_base_en/2' to your Kaggle notebook...\n",
      "Attaching 'metadata.json' from model 'keras/f_net/keras/f_net_base_en/2' to your Kaggle notebook...\n",
      "Attaching 'metadata.json' from model 'keras/f_net/keras/f_net_base_en/2' to your Kaggle notebook...\n",
      "Attaching 'task.json' from model 'keras/f_net/keras/f_net_base_en/2' to your Kaggle notebook...\n",
      "Attaching 'config.json' from model 'keras/f_net/keras/f_net_base_en/2' to your Kaggle notebook...\n",
      "Attaching 'metadata.json' from model 'keras/f_net/keras/f_net_base_en/2' to your Kaggle notebook...\n",
      "Attaching 'metadata.json' from model 'keras/f_net/keras/f_net_base_en/2' to your Kaggle notebook...\n",
      "Attaching 'config.json' from model 'keras/f_net/keras/f_net_base_en/2' to your Kaggle notebook...\n",
      "Attaching 'config.json' from model 'keras/f_net/keras/f_net_base_en/2' to your Kaggle notebook...\n",
      "Attaching 'model.weights.h5' from model 'keras/f_net/keras/f_net_base_en/2' to your Kaggle notebook...\n"
     ]
    },
    {
     "name": "stdout",
     "output_type": "stream",
     "text": [
      "Epoch 1/2\n"
     ]
    },
    {
     "name": "stderr",
     "output_type": "stream",
     "text": [
      "W0000 00:00:1719183434.381970      66 graph_launch.cc:671] Fallback to op-by-op mode because memset node breaks graph update\n",
      "W0000 00:00:1719183434.656341      66 graph_launch.cc:671] Fallback to op-by-op mode because memset node breaks graph update\n",
      "W0000 00:00:1719183434.665813      66 graph_launch.cc:671] Fallback to op-by-op mode because memset node breaks graph update\n",
      "W0000 00:00:1719183434.673890      66 graph_launch.cc:671] Fallback to op-by-op mode because memset node breaks graph update\n",
      "W0000 00:00:1719183434.681836      66 graph_launch.cc:671] Fallback to op-by-op mode because memset node breaks graph update\n",
      "W0000 00:00:1719183434.689856      66 graph_launch.cc:671] Fallback to op-by-op mode because memset node breaks graph update\n",
      "W0000 00:00:1719183434.697902      66 graph_launch.cc:671] Fallback to op-by-op mode because memset node breaks graph update\n",
      "W0000 00:00:1719183434.705882      66 graph_launch.cc:671] Fallback to op-by-op mode because memset node breaks graph update\n",
      "W0000 00:00:1719183434.713874      66 graph_launch.cc:671] Fallback to op-by-op mode because memset node breaks graph update\n",
      "W0000 00:00:1719183434.721824      66 graph_launch.cc:671] Fallback to op-by-op mode because memset node breaks graph update\n",
      "W0000 00:00:1719183434.729860      66 graph_launch.cc:671] Fallback to op-by-op mode because memset node breaks graph update\n",
      "W0000 00:00:1719183434.737899      66 graph_launch.cc:671] Fallback to op-by-op mode because memset node breaks graph update\n",
      "W0000 00:00:1719183434.746051      66 graph_launch.cc:671] Fallback to op-by-op mode because memset node breaks graph update\n",
      "W0000 00:00:1719183434.773545      66 graph_launch.cc:671] Fallback to op-by-op mode because memset node breaks graph update\n",
      "W0000 00:00:1719183434.788620      66 graph_launch.cc:671] Fallback to op-by-op mode because memset node breaks graph update\n",
      "W0000 00:00:1719183434.803649      66 graph_launch.cc:671] Fallback to op-by-op mode because memset node breaks graph update\n",
      "W0000 00:00:1719183434.818963      66 graph_launch.cc:671] Fallback to op-by-op mode because memset node breaks graph update\n",
      "W0000 00:00:1719183434.834393      66 graph_launch.cc:671] Fallback to op-by-op mode because memset node breaks graph update\n",
      "W0000 00:00:1719183434.848994      66 graph_launch.cc:671] Fallback to op-by-op mode because memset node breaks graph update\n"
     ]
    },
    {
     "name": "stdout",
     "output_type": "stream",
     "text": [
      "\u001b[1m  1/191\u001b[0m \u001b[37m━━━━━━━━━━━━━━━━━━━━\u001b[0m \u001b[1m2:48:02\u001b[0m 53s/step - accuracy: 0.5312 - loss: 0.6810"
     ]
    },
    {
     "name": "stderr",
     "output_type": "stream",
     "text": [
      "W0000 00:00:1719183434.863231      66 graph_launch.cc:671] Fallback to op-by-op mode because memset node breaks graph update\n",
      "W0000 00:00:1719183434.877458      66 graph_launch.cc:671] Fallback to op-by-op mode because memset node breaks graph update\n",
      "W0000 00:00:1719183434.891553      66 graph_launch.cc:671] Fallback to op-by-op mode because memset node breaks graph update\n",
      "W0000 00:00:1719183434.906071      66 graph_launch.cc:671] Fallback to op-by-op mode because memset node breaks graph update\n",
      "W0000 00:00:1719183434.920640      66 graph_launch.cc:671] Fallback to op-by-op mode because memset node breaks graph update\n",
      "W0000 00:00:1719183434.934876      66 graph_launch.cc:671] Fallback to op-by-op mode because memset node breaks graph update\n"
     ]
    },
    {
     "name": "stdout",
     "output_type": "stream",
     "text": [
      "\u001b[1m191/191\u001b[0m \u001b[32m━━━━━━━━━━━━━━━━━━━━\u001b[0m\u001b[37m\u001b[0m \u001b[1m0s\u001b[0m 451ms/step - accuracy: 0.6723 - loss: 0.6023"
     ]
    },
    {
     "name": "stderr",
     "output_type": "stream",
     "text": [
      "W0000 00:00:1719183520.524364      66 graph_launch.cc:671] Fallback to op-by-op mode because memset node breaks graph update\n",
      "W0000 00:00:1719183520.529112      66 graph_launch.cc:671] Fallback to op-by-op mode because memset node breaks graph update\n",
      "W0000 00:00:1719183520.532122      66 graph_launch.cc:671] Fallback to op-by-op mode because memset node breaks graph update\n",
      "W0000 00:00:1719183520.535150      66 graph_launch.cc:671] Fallback to op-by-op mode because memset node breaks graph update\n",
      "W0000 00:00:1719183520.538139      66 graph_launch.cc:671] Fallback to op-by-op mode because memset node breaks graph update\n",
      "W0000 00:00:1719183520.541151      66 graph_launch.cc:671] Fallback to op-by-op mode because memset node breaks graph update\n",
      "W0000 00:00:1719183520.544153      66 graph_launch.cc:671] Fallback to op-by-op mode because memset node breaks graph update\n",
      "W0000 00:00:1719183520.547159      66 graph_launch.cc:671] Fallback to op-by-op mode because memset node breaks graph update\n",
      "W0000 00:00:1719183520.550177      66 graph_launch.cc:671] Fallback to op-by-op mode because memset node breaks graph update\n",
      "W0000 00:00:1719183520.553229      66 graph_launch.cc:671] Fallback to op-by-op mode because memset node breaks graph update\n",
      "W0000 00:00:1719183520.556287      66 graph_launch.cc:671] Fallback to op-by-op mode because memset node breaks graph update\n",
      "W0000 00:00:1719183520.559426      66 graph_launch.cc:671] Fallback to op-by-op mode because memset node breaks graph update\n",
      "W0000 00:00:1719183520.567820      66 graph_launch.cc:671] Fallback to op-by-op mode because memset node breaks graph update\n",
      "W0000 00:00:1719183520.573354      66 graph_launch.cc:671] Fallback to op-by-op mode because memset node breaks graph update\n",
      "W0000 00:00:1719183520.579016      66 graph_launch.cc:671] Fallback to op-by-op mode because memset node breaks graph update\n",
      "W0000 00:00:1719183520.584442      66 graph_launch.cc:671] Fallback to op-by-op mode because memset node breaks graph update\n",
      "W0000 00:00:1719183520.589878      66 graph_launch.cc:671] Fallback to op-by-op mode because memset node breaks graph update\n",
      "W0000 00:00:1719183520.595722      66 graph_launch.cc:671] Fallback to op-by-op mode because memset node breaks graph update\n",
      "W0000 00:00:1719183520.601468      66 graph_launch.cc:671] Fallback to op-by-op mode because memset node breaks graph update\n",
      "W0000 00:00:1719183520.607038      66 graph_launch.cc:671] Fallback to op-by-op mode because memset node breaks graph update\n",
      "W0000 00:00:1719183520.612478      66 graph_launch.cc:671] Fallback to op-by-op mode because memset node breaks graph update\n",
      "W0000 00:00:1719183520.618221      66 graph_launch.cc:671] Fallback to op-by-op mode because memset node breaks graph update\n",
      "W0000 00:00:1719183520.624127      66 graph_launch.cc:671] Fallback to op-by-op mode because memset node breaks graph update\n",
      "W0000 00:00:1719183520.630093      66 graph_launch.cc:671] Fallback to op-by-op mode because memset node breaks graph update\n",
      "W0000 00:00:1719183523.994723      67 graph_launch.cc:671] Fallback to op-by-op mode because memset node breaks graph update\n",
      "W0000 00:00:1719183523.996603      67 graph_launch.cc:671] Fallback to op-by-op mode because memset node breaks graph update\n",
      "W0000 00:00:1719183524.004496      67 graph_launch.cc:671] Fallback to op-by-op mode because memset node breaks graph update\n",
      "W0000 00:00:1719183524.012457      67 graph_launch.cc:671] Fallback to op-by-op mode because memset node breaks graph update\n",
      "W0000 00:00:1719183524.020329      67 graph_launch.cc:671] Fallback to op-by-op mode because memset node breaks graph update\n",
      "W0000 00:00:1719183524.028240      67 graph_launch.cc:671] Fallback to op-by-op mode because memset node breaks graph update\n",
      "W0000 00:00:1719183524.036168      67 graph_launch.cc:671] Fallback to op-by-op mode because memset node breaks graph update\n",
      "W0000 00:00:1719183524.044100      67 graph_launch.cc:671] Fallback to op-by-op mode because memset node breaks graph update\n",
      "W0000 00:00:1719183524.051951      67 graph_launch.cc:671] Fallback to op-by-op mode because memset node breaks graph update\n",
      "W0000 00:00:1719183524.059902      67 graph_launch.cc:671] Fallback to op-by-op mode because memset node breaks graph update\n",
      "W0000 00:00:1719183524.067851      67 graph_launch.cc:671] Fallback to op-by-op mode because memset node breaks graph update\n",
      "W0000 00:00:1719183524.075685      67 graph_launch.cc:671] Fallback to op-by-op mode because memset node breaks graph update\n",
      "W0000 00:00:1719183524.083638      67 graph_launch.cc:671] Fallback to op-by-op mode because memset node breaks graph update\n"
     ]
    },
    {
     "name": "stdout",
     "output_type": "stream",
     "text": [
      "\u001b[1m191/191\u001b[0m \u001b[32m━━━━━━━━━━━━━━━━━━━━\u001b[0m\u001b[37m\u001b[0m \u001b[1m148s\u001b[0m 499ms/step - accuracy: 0.6726 - loss: 0.6019 - val_accuracy: 0.7971 - val_loss: 0.4531\n",
      "Epoch 2/2\n"
     ]
    },
    {
     "name": "stderr",
     "output_type": "stream",
     "text": [
      "W0000 00:00:1719183529.705207      67 graph_launch.cc:671] Fallback to op-by-op mode because memset node breaks graph update\n",
      "W0000 00:00:1719183529.706639      67 graph_launch.cc:671] Fallback to op-by-op mode because memset node breaks graph update\n",
      "W0000 00:00:1719183529.711274      67 graph_launch.cc:671] Fallback to op-by-op mode because memset node breaks graph update\n",
      "W0000 00:00:1719183529.715901      67 graph_launch.cc:671] Fallback to op-by-op mode because memset node breaks graph update\n",
      "W0000 00:00:1719183529.720516      67 graph_launch.cc:671] Fallback to op-by-op mode because memset node breaks graph update\n",
      "W0000 00:00:1719183529.725136      67 graph_launch.cc:671] Fallback to op-by-op mode because memset node breaks graph update\n",
      "W0000 00:00:1719183529.729796      67 graph_launch.cc:671] Fallback to op-by-op mode because memset node breaks graph update\n",
      "W0000 00:00:1719183529.734471      67 graph_launch.cc:671] Fallback to op-by-op mode because memset node breaks graph update\n",
      "W0000 00:00:1719183529.739097      67 graph_launch.cc:671] Fallback to op-by-op mode because memset node breaks graph update\n",
      "W0000 00:00:1719183529.743844      67 graph_launch.cc:671] Fallback to op-by-op mode because memset node breaks graph update\n",
      "W0000 00:00:1719183529.748630      67 graph_launch.cc:671] Fallback to op-by-op mode because memset node breaks graph update\n",
      "W0000 00:00:1719183529.753393      67 graph_launch.cc:671] Fallback to op-by-op mode because memset node breaks graph update\n",
      "W0000 00:00:1719183529.758117      67 graph_launch.cc:671] Fallback to op-by-op mode because memset node breaks graph update\n"
     ]
    },
    {
     "name": "stdout",
     "output_type": "stream",
     "text": [
      "\u001b[1m191/191\u001b[0m \u001b[32m━━━━━━━━━━━━━━━━━━━━\u001b[0m\u001b[37m\u001b[0m \u001b[1m56s\u001b[0m 294ms/step - accuracy: 0.8188 - loss: 0.4241 - val_accuracy: 0.8070 - val_loss: 0.4371\n"
     ]
    }
   ],
   "source": [
    "\n",
    "# Load and fine-tune FNet model\n",
    "def build_fnet_model():\n",
    "    preset = \"f_net_base_en\"\n",
    "    preprocessor = keras_nlp.models.FNetPreprocessor.from_preset(preset, sequence_length=160)\n",
    "    classifier = keras_nlp.models.FNetClassifier.from_preset(preset, preprocessor=preprocessor, num_classes=2)\n",
    "    classifier.compile(\n",
    "        loss=keras.losses.SparseCategoricalCrossentropy(from_logits=True),\n",
    "        optimizer=keras.optimizers.Adam(1e-5),\n",
    "        metrics=[\"accuracy\"]\n",
    "    )\n",
    "    return classifier\n",
    "\n",
    "fnet_model = build_fnet_model()\n",
    "fnet_model.fit(X_train, Y_train, batch_size=BATCH_SIZE, epochs=EPOCHS, validation_data=(X_val, Y_val))\n",
    "fnet_model.save(\"fnet_model.h5\")"
   ]
  },
  {
   "cell_type": "code",
   "execution_count": 13,
   "id": "9d47be45",
   "metadata": {
    "execution": {
     "iopub.execute_input": "2024-06-23T22:59:48.143219Z",
     "iopub.status.busy": "2024-06-23T22:59:48.142158Z",
     "iopub.status.idle": "2024-06-23T23:00:30.718797Z",
     "shell.execute_reply": "2024-06-23T23:00:30.717727Z"
    },
    "papermill": {
     "duration": 42.793742,
     "end_time": "2024-06-23T23:00:30.721087",
     "exception": false,
     "start_time": "2024-06-23T22:59:47.927345",
     "status": "completed"
    },
    "tags": []
   },
   "outputs": [
    {
     "name": "stdout",
     "output_type": "stream",
     "text": [
      "\u001b[1m 3/48\u001b[0m \u001b[32m━\u001b[0m\u001b[37m━━━━━━━━━━━━━━━━━━━\u001b[0m \u001b[1m3s\u001b[0m 73ms/step"
     ]
    },
    {
     "name": "stderr",
     "output_type": "stream",
     "text": [
      "W0000 00:00:1719183593.058972      66 graph_launch.cc:671] Fallback to op-by-op mode because memset node breaks graph update\n"
     ]
    },
    {
     "name": "stdout",
     "output_type": "stream",
     "text": [
      "\u001b[1m48/48\u001b[0m \u001b[32m━━━━━━━━━━━━━━━━━━━━\u001b[0m\u001b[37m\u001b[0m \u001b[1m8s\u001b[0m 112ms/step\n"
     ]
    },
    {
     "name": "stderr",
     "output_type": "stream",
     "text": [
      "W0000 00:00:1719183598.336217      69 graph_launch.cc:671] Fallback to op-by-op mode because memset node breaks graph update\n"
     ]
    },
    {
     "name": "stdout",
     "output_type": "stream",
     "text": [
      "\u001b[1m 3/48\u001b[0m \u001b[32m━\u001b[0m\u001b[37m━━━━━━━━━━━━━━━━━━━\u001b[0m \u001b[1m2s\u001b[0m 67ms/step"
     ]
    },
    {
     "name": "stderr",
     "output_type": "stream",
     "text": [
      "W0000 00:00:1719183601.603899      66 graph_launch.cc:671] Fallback to op-by-op mode because memset node breaks graph update\n"
     ]
    },
    {
     "name": "stdout",
     "output_type": "stream",
     "text": [
      "\u001b[1m48/48\u001b[0m \u001b[32m━━━━━━━━━━━━━━━━━━━━\u001b[0m\u001b[37m\u001b[0m \u001b[1m8s\u001b[0m 109ms/step\n"
     ]
    },
    {
     "name": "stderr",
     "output_type": "stream",
     "text": [
      "W0000 00:00:1719183606.730533      69 graph_launch.cc:671] Fallback to op-by-op mode because memset node breaks graph update\n"
     ]
    },
    {
     "name": "stdout",
     "output_type": "stream",
     "text": [
      "\u001b[1m 2/48\u001b[0m \u001b[37m━━━━━━━━━━━━━━━━━━━━\u001b[0m \u001b[1m5s\u001b[0m 130ms/step"
     ]
    },
    {
     "name": "stderr",
     "output_type": "stream",
     "text": [
      "W0000 00:00:1719183611.027618      69 graph_launch.cc:671] Fallback to op-by-op mode because memset node breaks graph update\n"
     ]
    },
    {
     "name": "stdout",
     "output_type": "stream",
     "text": [
      "\u001b[1m48/48\u001b[0m \u001b[32m━━━━━━━━━━━━━━━━━━━━\u001b[0m\u001b[37m\u001b[0m \u001b[1m13s\u001b[0m 201ms/step\n"
     ]
    },
    {
     "name": "stderr",
     "output_type": "stream",
     "text": [
      "W0000 00:00:1719183620.489269      68 graph_launch.cc:671] Fallback to op-by-op mode because memset node breaks graph update\n"
     ]
    },
    {
     "name": "stdout",
     "output_type": "stream",
     "text": [
      "\u001b[1m 3/48\u001b[0m \u001b[32m━\u001b[0m\u001b[37m━━━━━━━━━━━━━━━━━━━\u001b[0m \u001b[1m2s\u001b[0m 46ms/step"
     ]
    },
    {
     "name": "stderr",
     "output_type": "stream",
     "text": [
      "W0000 00:00:1719183623.743199      67 graph_launch.cc:671] Fallback to op-by-op mode because memset node breaks graph update\n",
      "W0000 00:00:1719183623.744997      67 graph_launch.cc:671] Fallback to op-by-op mode because memset node breaks graph update\n",
      "W0000 00:00:1719183623.752122      67 graph_launch.cc:671] Fallback to op-by-op mode because memset node breaks graph update\n",
      "W0000 00:00:1719183623.759417      67 graph_launch.cc:671] Fallback to op-by-op mode because memset node breaks graph update\n",
      "W0000 00:00:1719183623.766696      67 graph_launch.cc:671] Fallback to op-by-op mode because memset node breaks graph update\n",
      "W0000 00:00:1719183623.773897      67 graph_launch.cc:671] Fallback to op-by-op mode because memset node breaks graph update\n",
      "W0000 00:00:1719183623.781073      67 graph_launch.cc:671] Fallback to op-by-op mode because memset node breaks graph update\n",
      "W0000 00:00:1719183623.788319      67 graph_launch.cc:671] Fallback to op-by-op mode because memset node breaks graph update\n",
      "W0000 00:00:1719183623.795434      67 graph_launch.cc:671] Fallback to op-by-op mode because memset node breaks graph update\n",
      "W0000 00:00:1719183623.802692      67 graph_launch.cc:671] Fallback to op-by-op mode because memset node breaks graph update\n",
      "W0000 00:00:1719183623.809963      67 graph_launch.cc:671] Fallback to op-by-op mode because memset node breaks graph update\n",
      "W0000 00:00:1719183623.817158      67 graph_launch.cc:671] Fallback to op-by-op mode because memset node breaks graph update\n",
      "W0000 00:00:1719183623.824405      67 graph_launch.cc:671] Fallback to op-by-op mode because memset node breaks graph update\n"
     ]
    },
    {
     "name": "stdout",
     "output_type": "stream",
     "text": [
      "\u001b[1m48/48\u001b[0m \u001b[32m━━━━━━━━━━━━━━━━━━━━\u001b[0m\u001b[37m\u001b[0m \u001b[1m9s\u001b[0m 134ms/step\n"
     ]
    },
    {
     "name": "stderr",
     "output_type": "stream",
     "text": [
      "W0000 00:00:1719183630.092538      69 graph_launch.cc:671] Fallback to op-by-op mode because memset node breaks graph update\n",
      "W0000 00:00:1719183630.093818      69 graph_launch.cc:671] Fallback to op-by-op mode because memset node breaks graph update\n",
      "W0000 00:00:1719183630.098570      69 graph_launch.cc:671] Fallback to op-by-op mode because memset node breaks graph update\n",
      "W0000 00:00:1719183630.103201      69 graph_launch.cc:671] Fallback to op-by-op mode because memset node breaks graph update\n",
      "W0000 00:00:1719183630.107809      69 graph_launch.cc:671] Fallback to op-by-op mode because memset node breaks graph update\n",
      "W0000 00:00:1719183630.112426      69 graph_launch.cc:671] Fallback to op-by-op mode because memset node breaks graph update\n",
      "W0000 00:00:1719183630.116966      69 graph_launch.cc:671] Fallback to op-by-op mode because memset node breaks graph update\n",
      "W0000 00:00:1719183630.121551      69 graph_launch.cc:671] Fallback to op-by-op mode because memset node breaks graph update\n",
      "W0000 00:00:1719183630.126145      69 graph_launch.cc:671] Fallback to op-by-op mode because memset node breaks graph update\n",
      "W0000 00:00:1719183630.130720      69 graph_launch.cc:671] Fallback to op-by-op mode because memset node breaks graph update\n",
      "W0000 00:00:1719183630.135391      69 graph_launch.cc:671] Fallback to op-by-op mode because memset node breaks graph update\n",
      "W0000 00:00:1719183630.139974      69 graph_launch.cc:671] Fallback to op-by-op mode because memset node breaks graph update\n",
      "W0000 00:00:1719183630.144612      69 graph_launch.cc:671] Fallback to op-by-op mode because memset node breaks graph update\n"
     ]
    },
    {
     "data": {
      "image/png": "[encoded data removed]",
      "text/plain": [
       "<Figure size 2000x500 with 4 Axes>"
      ]
     },
     "metadata": {},
     "output_type": "display_data"
    }
   ],
   "source": [
    "# Function to display the confusion matrix\n",
    "def displayConfusionMatrix(y_true, y_pred, model_name, ax):\n",
    "    disp = ConfusionMatrixDisplay.from_predictions(\n",
    "        y_true,\n",
    "        np.argmax(y_pred, axis=1),\n",
    "        display_labels=[\"Not Disaster\", \"Disaster\"],\n",
    "        cmap=plt.cm.Blues,\n",
    "        ax=ax,\n",
    "        colorbar=False  # Disable the color legend\n",
    "    )\n",
    "    tn, fp, fn, tp = confusion_matrix(y_true, np.argmax(y_pred, axis=1)).ravel()\n",
    "    f1_score = tp / (tp + ((fn + fp) / 2))\n",
    "    accuracy = (tp + tn) / (tn + fp + fn + tp)\n",
    "    ax.set_title(f\"Confusion Matrix for {model_name}\\nF1 Score: {f1_score.round(2)}, Accuracy: {accuracy.round(2)}\")\n",
    "    # Make the numbers in the confusion matrix bigger\n",
    "    for text in disp.ax_.texts:\n",
    "        text.set_fontsize(14)\n",
    "\n",
    "# Compare confusion matrices for all models\n",
    "models = {\n",
    "    \"Base DistilBERT\": base_distilbert_model,\n",
    "    \"Optimized DistilBERT\": improved_distilbert_model,\n",
    "    \"ALBERT\": albert_model,\n",
    "    \"FNet\": fnet_model\n",
    "}\n",
    "\n",
    "fig, axes = plt.subplots(nrows=1, ncols=4, figsize=(20, 5))\n",
    "\n",
    "for ax, (model_name, model) in zip(axes, models.items()):\n",
    "    Y_pred_val = model.predict(X_val)\n",
    "    displayConfusionMatrix(Y_val, Y_pred_val, model_name, ax)\n",
    "\n",
    "plt.tight_layout()\n",
    "plt.show()"
   ]
  },
  {
   "cell_type": "code",
   "execution_count": 14,
   "id": "0f9b6772",
   "metadata": {
    "execution": {
     "iopub.execute_input": "2024-06-23T23:00:31.211248Z",
     "iopub.status.busy": "2024-06-23T23:00:31.210858Z",
     "iopub.status.idle": "2024-06-23T23:00:53.752316Z",
     "shell.execute_reply": "2024-06-23T23:00:53.751222Z"
    },
    "papermill": {
     "duration": 22.786111,
     "end_time": "2024-06-23T23:00:53.754413",
     "exception": false,
     "start_time": "2024-06-23T23:00:30.968302",
     "status": "completed"
    },
    "tags": []
   },
   "outputs": [
    {
     "name": "stdout",
     "output_type": "stream",
     "text": [
      "\u001b[1m48/48\u001b[0m \u001b[32m━━━━━━━━━━━━━━━━━━━━\u001b[0m\u001b[37m\u001b[0m \u001b[1m4s\u001b[0m 71ms/step - accuracy: 0.8021 - loss: 0.4332\n",
      "\u001b[1m48/48\u001b[0m \u001b[32m━━━━━━━━━━━━━━━━━━━━\u001b[0m\u001b[37m\u001b[0m \u001b[1m4s\u001b[0m 70ms/step - accuracy: 0.8184 - loss: 0.4436\n",
      "\u001b[1m48/48\u001b[0m \u001b[32m━━━━━━━━━━━━━━━━━━━━\u001b[0m\u001b[37m\u001b[0m \u001b[1m7s\u001b[0m 135ms/step - accuracy: 0.7734 - loss: 0.4768\n",
      "\u001b[1m48/48\u001b[0m \u001b[32m━━━━━━━━━━━━━━━━━━━━\u001b[0m\u001b[37m\u001b[0m \u001b[1m4s\u001b[0m 88ms/step - accuracy: 0.7974 - loss: 0.4551\n"
     ]
    }
   ],
   "source": [
    "# Determine the best model based on validation accuracy\n",
    "best_model_name = max(models, key=lambda name: models[name].evaluate(X_val, Y_val)[1])\n",
    "best_model = models[best_model_name]"
   ]
  },
  {
   "cell_type": "markdown",
   "id": "7512fbd2",
   "metadata": {
    "papermill": {
     "duration": 0.249071,
     "end_time": "2024-06-23T23:00:54.247307",
     "exception": false,
     "start_time": "2024-06-23T23:00:53.998236",
     "status": "completed"
    },
    "tags": []
   },
   "source": [
    "**STEP 4: Results and analysis**\n",
    "\n",
    "The optimized DistilBERT model slightly outperforms the base DistilBERT, ALBERT, and FNet models in terms of both F1 score and accuracy. This improvement can be attributed to the hyperparameter tuning process, which likely enhanced the model's ability to generalize from the training data. Comparing DistilBERT with its optimized version, the optimization process has significantly reduced the false positive rate (from 129 to 86), leading to a higher accuracy and F1 score. This indicates that hyperparameter tuning can substantially impact model performance if we continue performing other hyperparameter optimization.\n",
    "\n",
    "While both DistilBERT and ALBERT are designed to be lighter versions of BERT, DistilBERT seems to perform better overall. This could be due to its architecture, which might be better suited for the specific task of tweet classification. Although FNet also offers a lighter model architecture, it does not perform as well as the optimized DistilBERT. \n",
    "\n",
    "Overall, the optimized DistilBERT model demonstrates a superior performance, suggesting that careful tuning and optimization of hyperparameters are crucial steps in developing effective machine learning models.\n",
    "\n",
    "**SETP 5: Conclusions**\n",
    "\n",
    "In conclusion, the optimized DistilBERT model achieved the highest accuracy and F1 score among the tested models, indicating its suitability for the task of disaster tweet classification. The performance differences between the models highlight the importance of model selection and hyperparameter tuning. \n",
    "\n",
    "Future work could involve further hyperparameter tuning, as additional fine-tuning of hyperparameters for all models could yield further performance improvements.\n",
    "\n",
    "Implementing data augmentation techniques might help in enhancing model robustness and generalization. Exploring advanced text preprocessing methods, such as handling emojis, hashtags, and user mentions, could improve model performance. There is also one limitation of the models, because they are not able to distinguish metion Upper Cases and Lower Cases, and this may be an important missing feature in the identification of emergency tweets and sentiment analysis.\n",
    "\n",
    "**Append 1: Submission file**"
   ]
  },
  {
   "cell_type": "code",
   "execution_count": 15,
   "id": "fe99e3dc",
   "metadata": {
    "execution": {
     "iopub.execute_input": "2024-06-23T23:00:54.744996Z",
     "iopub.status.busy": "2024-06-23T23:00:54.744578Z",
     "iopub.status.idle": "2024-06-23T23:01:04.216969Z",
     "shell.execute_reply": "2024-06-23T23:01:04.215848Z"
    },
    "papermill": {
     "duration": 9.7227,
     "end_time": "2024-06-23T23:01:04.219525",
     "exception": false,
     "start_time": "2024-06-23T23:00:54.496825",
     "status": "completed"
    },
    "tags": []
   },
   "outputs": [
    {
     "name": "stdout",
     "output_type": "stream",
     "text": [
      "\u001b[1m102/102\u001b[0m \u001b[32m━━━━━━━━━━━━━━━━━━━━\u001b[0m\u001b[37m\u001b[0m \u001b[1m9s\u001b[0m 82ms/step\n",
      "Sample submission generated using the best model: Optimized DistilBERT\n"
     ]
    },
    {
     "name": "stderr",
     "output_type": "stream",
     "text": [
      "W0000 00:00:1719183664.121572      66 graph_launch.cc:671] Fallback to op-by-op mode because memset node breaks graph update\n"
     ]
    }
   ],
   "source": [
    "# Run sample submission with the best model\n",
    "sample_submission = pd.read_csv(\"/kaggle/input/nlp-getting-started/sample_submission.csv\")\n",
    "sample_submission[\"target\"] = np.argmax(best_model.predict(X_test), axis=1)\n",
    "sample_submission.describe()\n",
    "sample_submission.to_csv(\"submission.csv\", index=False)\n",
    "\n",
    "print(f\"Sample submission generated using the best model: {best_model_name}\")"
   ]
  },
  {
   "cell_type": "code",
   "execution_count": null,
   "id": "3161b104",
   "metadata": {
    "papermill": {
     "duration": 0.253232,
     "end_time": "2024-06-23T23:01:04.728198",
     "exception": false,
     "start_time": "2024-06-23T23:01:04.474966",
     "status": "completed"
    },
    "tags": []
   },
   "outputs": [],
   "source": []
  }
 ],
 "metadata": {
  "kaggle": {
   "accelerator": "gpu",
   "dataSources": [
    {
     "databundleVersionId": 869809,
     "sourceId": 17777,
     "sourceType": "competition"
    },
    {
     "databundleVersionId": 7429147,
     "modelInstanceId": 4668,
     "sourceId": 6047,
     "sourceType": "modelInstanceVersion"
    },
    {
     "databundleVersionId": 7429247,
     "modelInstanceId": 4689,
     "sourceId": 6068,
     "sourceType": "modelInstanceVersion"
    },
    {
     "databundleVersionId": 7429255,
     "modelInstanceId": 4692,
     "sourceId": 6071,
     "sourceType": "modelInstanceVersion"
    },
    {
     "databundleVersionId": 7429267,
     "modelInstanceId": 4694,
     "sourceId": 6074,
     "sourceType": "modelInstanceVersion"
    }
   ],
   "isGpuEnabled": true,
   "isInternetEnabled": true,
   "language": "python",
   "sourceType": "notebook"
  },
  "kernelspec": {
   "display_name": "Python 3 (ipykernel)",
   "language": "python",
   "name": "python3"
  },
  "language_info": {
   "codemirror_mode": {
    "name": "ipython",
    "version": 3
   },
   "file_extension": ".py",
   "mimetype": "text/x-python",
   "name": "python",
   "nbconvert_exporter": "python",
   "pygments_lexer": "ipython3",
   "version": "3.10.9"
  },
  "papermill": {
   "default_parameters": {},
   "duration": 1389.933784,
   "end_time": "2024-06-23T23:01:08.417471",
   "environment_variables": {},
   "exception": null,
   "input_path": "__notebook__.ipynb",
   "output_path": "__notebook__.ipynb",
   "parameters": {},
   "start_time": "2024-06-23T22:37:58.483687",
   "version": "2.5.0"
  }
 },
 "nbformat": 4,
 "nbformat_minor": 5
}
